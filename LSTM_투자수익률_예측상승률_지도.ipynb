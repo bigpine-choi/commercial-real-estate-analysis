{
  "cells": [
    {
      "cell_type": "markdown",
      "metadata": {
        "id": "view-in-github",
        "colab_type": "text"
      },
      "source": [
        "<a href=\"https://colab.research.google.com/github/bigpine-choi/commercial-real-estate-analysis/blob/main/LSTM_%ED%88%AC%EC%9E%90%EC%88%98%EC%9D%B5%EB%A5%A0_%EC%98%88%EC%B8%A1%EC%83%81%EC%8A%B9%EB%A5%A0_%EC%A7%80%EB%8F%84.ipynb\" target=\"_parent\"><img src=\"https://colab.research.google.com/assets/colab-badge.svg\" alt=\"Open In Colab\"/></a>"
      ]
    },
    {
      "cell_type": "markdown",
      "id": "9b05add7",
      "metadata": {
        "id": "9b05add7"
      },
      "source": [
        "# 📌 투자수익률 예측 상승률 기반 지도 시각화\n",
        "\n",
        "과거 평균 수익률과 LSTM 예측 수익률을 비교하여 상승률을 계산하고, 이를 기반으로 순위를 시각화합니다."
      ]
    },
    {
      "cell_type": "code",
      "execution_count": 3,
      "id": "9bcaf2aa",
      "metadata": {
        "colab": {
          "base_uri": "https://localhost:8080/",
          "height": 370
        },
        "id": "9bcaf2aa",
        "outputId": "de6cfd18-1d29-40cd-a502-31d59cf020bb"
      },
      "outputs": [
        {
          "output_type": "error",
          "ename": "KeyError",
          "evalue": "'지역'",
          "traceback": [
            "\u001b[0;31m---------------------------------------------------------------------------\u001b[0m",
            "\u001b[0;31mKeyError\u001b[0m                                  Traceback (most recent call last)",
            "\u001b[0;32m<ipython-input-3-26293ca2029c>\u001b[0m in \u001b[0;36m<cell line: 0>\u001b[0;34m()\u001b[0m\n\u001b[1;32m     36\u001b[0m \u001b[0;34m\u001b[0m\u001b[0m\n\u001b[1;32m     37\u001b[0m \u001b[0;31m# ✅ 위도/경도 병합\u001b[0m\u001b[0;34m\u001b[0m\u001b[0;34m\u001b[0m\u001b[0m\n\u001b[0;32m---> 38\u001b[0;31m \u001b[0mmerged\u001b[0m \u001b[0;34m=\u001b[0m \u001b[0mpd\u001b[0m\u001b[0;34m.\u001b[0m\u001b[0mmerge\u001b[0m\u001b[0;34m(\u001b[0m\u001b[0mmerged\u001b[0m\u001b[0;34m,\u001b[0m \u001b[0mgeo_df\u001b[0m\u001b[0;34m,\u001b[0m \u001b[0mon\u001b[0m\u001b[0;34m=\u001b[0m\u001b[0;34m\"지역\"\u001b[0m\u001b[0;34m,\u001b[0m \u001b[0mhow\u001b[0m\u001b[0;34m=\u001b[0m\u001b[0;34m\"left\"\u001b[0m\u001b[0;34m)\u001b[0m\u001b[0;34m\u001b[0m\u001b[0;34m\u001b[0m\u001b[0m\n\u001b[0m\u001b[1;32m     39\u001b[0m \u001b[0mmerged\u001b[0m \u001b[0;34m=\u001b[0m \u001b[0mmerged\u001b[0m\u001b[0;34m.\u001b[0m\u001b[0mdropna\u001b[0m\u001b[0;34m(\u001b[0m\u001b[0msubset\u001b[0m\u001b[0;34m=\u001b[0m\u001b[0;34m[\u001b[0m\u001b[0;34m\"위도\"\u001b[0m\u001b[0;34m,\u001b[0m \u001b[0;34m\"경도\"\u001b[0m\u001b[0;34m]\u001b[0m\u001b[0;34m)\u001b[0m\u001b[0;34m\u001b[0m\u001b[0;34m\u001b[0m\u001b[0m\n\u001b[1;32m     40\u001b[0m \u001b[0;34m\u001b[0m\u001b[0m\n",
            "\u001b[0;32m/usr/local/lib/python3.11/dist-packages/pandas/core/reshape/merge.py\u001b[0m in \u001b[0;36mmerge\u001b[0;34m(left, right, how, on, left_on, right_on, left_index, right_index, sort, suffixes, copy, indicator, validate)\u001b[0m\n\u001b[1;32m    168\u001b[0m         )\n\u001b[1;32m    169\u001b[0m     \u001b[0;32melse\u001b[0m\u001b[0;34m:\u001b[0m\u001b[0;34m\u001b[0m\u001b[0;34m\u001b[0m\u001b[0m\n\u001b[0;32m--> 170\u001b[0;31m         op = _MergeOperation(\n\u001b[0m\u001b[1;32m    171\u001b[0m             \u001b[0mleft_df\u001b[0m\u001b[0;34m,\u001b[0m\u001b[0;34m\u001b[0m\u001b[0;34m\u001b[0m\u001b[0m\n\u001b[1;32m    172\u001b[0m             \u001b[0mright_df\u001b[0m\u001b[0;34m,\u001b[0m\u001b[0;34m\u001b[0m\u001b[0;34m\u001b[0m\u001b[0m\n",
            "\u001b[0;32m/usr/local/lib/python3.11/dist-packages/pandas/core/reshape/merge.py\u001b[0m in \u001b[0;36m__init__\u001b[0;34m(self, left, right, how, on, left_on, right_on, left_index, right_index, sort, suffixes, indicator, validate)\u001b[0m\n\u001b[1;32m    792\u001b[0m             \u001b[0mleft_drop\u001b[0m\u001b[0;34m,\u001b[0m\u001b[0;34m\u001b[0m\u001b[0;34m\u001b[0m\u001b[0m\n\u001b[1;32m    793\u001b[0m             \u001b[0mright_drop\u001b[0m\u001b[0;34m,\u001b[0m\u001b[0;34m\u001b[0m\u001b[0;34m\u001b[0m\u001b[0m\n\u001b[0;32m--> 794\u001b[0;31m         ) = self._get_merge_keys()\n\u001b[0m\u001b[1;32m    795\u001b[0m \u001b[0;34m\u001b[0m\u001b[0m\n\u001b[1;32m    796\u001b[0m         \u001b[0;32mif\u001b[0m \u001b[0mleft_drop\u001b[0m\u001b[0;34m:\u001b[0m\u001b[0;34m\u001b[0m\u001b[0;34m\u001b[0m\u001b[0m\n",
            "\u001b[0;32m/usr/local/lib/python3.11/dist-packages/pandas/core/reshape/merge.py\u001b[0m in \u001b[0;36m_get_merge_keys\u001b[0;34m(self)\u001b[0m\n\u001b[1;32m   1295\u001b[0m                         \u001b[0mrk\u001b[0m \u001b[0;34m=\u001b[0m \u001b[0mcast\u001b[0m\u001b[0;34m(\u001b[0m\u001b[0mHashable\u001b[0m\u001b[0;34m,\u001b[0m \u001b[0mrk\u001b[0m\u001b[0;34m)\u001b[0m\u001b[0;34m\u001b[0m\u001b[0;34m\u001b[0m\u001b[0m\n\u001b[1;32m   1296\u001b[0m                         \u001b[0;32mif\u001b[0m \u001b[0mrk\u001b[0m \u001b[0;32mis\u001b[0m \u001b[0;32mnot\u001b[0m \u001b[0;32mNone\u001b[0m\u001b[0;34m:\u001b[0m\u001b[0;34m\u001b[0m\u001b[0;34m\u001b[0m\u001b[0m\n\u001b[0;32m-> 1297\u001b[0;31m                             \u001b[0mright_keys\u001b[0m\u001b[0;34m.\u001b[0m\u001b[0mappend\u001b[0m\u001b[0;34m(\u001b[0m\u001b[0mright\u001b[0m\u001b[0;34m.\u001b[0m\u001b[0m_get_label_or_level_values\u001b[0m\u001b[0;34m(\u001b[0m\u001b[0mrk\u001b[0m\u001b[0;34m)\u001b[0m\u001b[0;34m)\u001b[0m\u001b[0;34m\u001b[0m\u001b[0;34m\u001b[0m\u001b[0m\n\u001b[0m\u001b[1;32m   1298\u001b[0m                         \u001b[0;32melse\u001b[0m\u001b[0;34m:\u001b[0m\u001b[0;34m\u001b[0m\u001b[0;34m\u001b[0m\u001b[0m\n\u001b[1;32m   1299\u001b[0m                             \u001b[0;31m# work-around for merge_asof(right_index=True)\u001b[0m\u001b[0;34m\u001b[0m\u001b[0;34m\u001b[0m\u001b[0m\n",
            "\u001b[0;32m/usr/local/lib/python3.11/dist-packages/pandas/core/generic.py\u001b[0m in \u001b[0;36m_get_label_or_level_values\u001b[0;34m(self, key, axis)\u001b[0m\n\u001b[1;32m   1909\u001b[0m             \u001b[0mvalues\u001b[0m \u001b[0;34m=\u001b[0m \u001b[0mself\u001b[0m\u001b[0;34m.\u001b[0m\u001b[0maxes\u001b[0m\u001b[0;34m[\u001b[0m\u001b[0maxis\u001b[0m\u001b[0;34m]\u001b[0m\u001b[0;34m.\u001b[0m\u001b[0mget_level_values\u001b[0m\u001b[0;34m(\u001b[0m\u001b[0mkey\u001b[0m\u001b[0;34m)\u001b[0m\u001b[0;34m.\u001b[0m\u001b[0m_values\u001b[0m\u001b[0;34m\u001b[0m\u001b[0;34m\u001b[0m\u001b[0m\n\u001b[1;32m   1910\u001b[0m         \u001b[0;32melse\u001b[0m\u001b[0;34m:\u001b[0m\u001b[0;34m\u001b[0m\u001b[0;34m\u001b[0m\u001b[0m\n\u001b[0;32m-> 1911\u001b[0;31m             \u001b[0;32mraise\u001b[0m \u001b[0mKeyError\u001b[0m\u001b[0;34m(\u001b[0m\u001b[0mkey\u001b[0m\u001b[0;34m)\u001b[0m\u001b[0;34m\u001b[0m\u001b[0;34m\u001b[0m\u001b[0m\n\u001b[0m\u001b[1;32m   1912\u001b[0m \u001b[0;34m\u001b[0m\u001b[0m\n\u001b[1;32m   1913\u001b[0m         \u001b[0;31m# Check for duplicates\u001b[0m\u001b[0;34m\u001b[0m\u001b[0;34m\u001b[0m\u001b[0m\n",
            "\u001b[0;31mKeyError\u001b[0m: '지역'"
          ]
        }
      ],
      "source": [
        "import pandas as pd\n",
        "import folium\n",
        "import numpy as np\n",
        "\n",
        "# ✅ 파일 경로 설정\n",
        "past_file = \"오피스_임대료_공실률_투자수익률_순영업소득_all.csv\"\n",
        "future_file = \"LSTM_예측_투자수익률_지역별_all.csv\"\n",
        "geo_file = \"서울_지역별_위도_경도.csv\"\n",
        "\n",
        "# ✅ 데이터 불러오기\n",
        "past_df = pd.read_csv(past_file, encoding=\"utf-8-sig\")\n",
        "future_df = pd.read_csv(future_file, encoding=\"utf-8-sig\")\n",
        "geo_df = pd.read_csv(geo_file, encoding=\"utf-8-sig\")\n",
        "\n",
        "# ✅ 과거 수익률 평균 계산\n",
        "past_df = past_df[past_df[\"지표\"] == \"투자수익률\"]\n",
        "past_avg = past_df.groupby(\"CLS_NM\")[\"DTA_VAL\"].mean().reset_index()\n",
        "past_avg.columns = [\"지역\", \"현재_수익률_평균\"]\n",
        "\n",
        "# ✅ 미래 수익률 평균 정리\n",
        "future_df = future_df.copy()\n",
        "future_df.reset_index(inplace=True)\n",
        "future_df.rename(columns={\"index\": \"지역\", \"예측평균\": \"미래_수익률_평균\"}, inplace=True)\n",
        "\n",
        "# ✅ 여기서 문자열로 변환!\n",
        "past_avg[\"지역\"] = past_avg[\"지역\"].astype(str)\n",
        "future_df[\"지역\"] = future_df[\"지역\"].astype(str)\n",
        "\n",
        "# ✅ 병합 및 상승률 계산\n",
        "merged = pd.merge(past_avg, future_df, on=\"지역\", how=\"inner\")\n",
        "merged[\"예측_상승률\"] = merged[\"미래_수익률_평균\"] - merged[\"현재_수익률_평균\"]\n",
        "\n",
        "# ✅ 순위 계산\n",
        "merged = merged.sort_values(\"예측_상승률\", ascending=False).reset_index(drop=True)\n",
        "merged[\"순위\"] = merged.index + 1\n",
        "\n",
        "# ✅ 위도/경도 병합\n",
        "merged = pd.merge(merged, geo_df, on=\"지역\", how=\"left\")\n",
        "merged = merged.dropna(subset=[\"위도\", \"경도\"])\n",
        "\n",
        "# ✅ Folium 지도 생성\n",
        "seoul_center = [37.5665, 126.9780]\n",
        "m = folium.Map(location=seoul_center, zoom_start=11)\n",
        "\n",
        "for _, row in merged.iterrows():\n",
        "    color = \"red\" if row[\"순위\"] == 1 else \"blue\" if row[\"순위\"] <= 5 else \"gray\"\n",
        "    popup_html = (\n",
        "        f\"<b>지역:</b> {row['지역']}<br>\"\n",
        "        f\"<b>현재 수익률 평균:</b> {round(row['현재_수익률_평균'], 2)}%<br>\"\n",
        "        f\"<b>예측 수익률 평균:</b> {round(row['미래_수익률_평균'], 2)}%<br>\"\n",
        "        f\"<b>예측 상승률:</b> {round(row['예측_상승률'], 2)}%<br>\"\n",
        "        f\"<b>순위:</b> {row['순위']}\"\n",
        "    )\n",
        "    folium.CircleMarker(\n",
        "        location=[row[\"위도\"], row[\"경도\"]],\n",
        "        radius=8,\n",
        "        color=color,\n",
        "        fill=True,\n",
        "        fill_color=color,\n",
        "        fill_opacity=0.7,\n",
        "        popup=folium.Popup(popup_html, max_width=300),\n",
        "        tooltip=f\"{row['순위']}위: {row['지역']}\"\n",
        "    ).add_to(m)\n",
        "\n",
        "# ✅ 지도 저장\n",
        "m.save(\"LSTM_투자수익률_예측상승률_지도.html\")\n",
        "print(\"✅ 지도 저장 완료!\")\n"
      ]
    }
  ],
  "metadata": {
    "colab": {
      "provenance": [],
      "include_colab_link": true
    },
    "language_info": {
      "name": "python"
    },
    "kernelspec": {
      "name": "python3",
      "display_name": "Python 3"
    }
  },
  "nbformat": 4,
  "nbformat_minor": 5
}