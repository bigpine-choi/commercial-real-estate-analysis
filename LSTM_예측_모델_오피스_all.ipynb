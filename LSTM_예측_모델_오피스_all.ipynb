{
 "cells": [
  {
   "cell_type": "markdown",
   "metadata": {},
   "source": [
    "# 📈 LSTM 기반 투자수익률 예측 모델 (전체 데이터셋)"
   ]
  },
  {
   "cell_type": "code",
   "source": [
    "import pandas as pd\n",
    "import numpy as np\n",
    "import matplotlib.pyplot as plt\n",
    "from sklearn.preprocessing import MinMaxScaler\n",
    "from tensorflow.keras.models import Sequential\n",
    "from tensorflow.keras.layers import LSTM, Dense"
   ],
   "metadata": {},
   "execution_count": null,
   "outputs": []
  },
  {
   "cell_type": "code",
   "source": [
    "# ✅ 파라미터 설정\n",
    "time_steps = 8\n",
    "predict_steps = 4\n",
    "target_column = \"투자수익률\"\n",
    "feature_columns = [\"임대료\", \"공실률\", \"순영업소득\", \"투자수익률\"]"
   ],
   "metadata": {},
   "execution_count": null,
   "outputs": []
  },
  {
   "cell_type": "code",
   "source": [
    "# ✅ 데이터 로딩\n",
    "df = pd.read_csv(\"/content/오피스_임대료_공실률_투자수익률_순영업소득_all.csv\", encoding=\"utf-8-sig\")"
   ],
   "metadata": {},
   "execution_count": null,
   "outputs": []
  },
  {
   "cell_type": "code",
   "source": [
    "# ✅ 예측 함수 정의\n",
    "def predict_for_region(region_name):\n",
    "    region_df = df[df[\"CLS_NM\"] == region_name].copy()\n",
    "    region_df = region_df.sort_values(\"WRTTIME_DESC\")\n",
    "    pivot_df = region_df.pivot(index=\"WRTTIME_DESC\", columns=\"지표\", values=\"DTA_VAL\")[feature_columns].dropna()\n",
    "    if pivot_df.shape[0] < time_steps + predict_steps:\n",
    "        raise ValueError(\"시계열 길이가 부족함\")\n",
    "    scaler = MinMaxScaler()\n",
    "    scaled_data = scaler.fit_transform(pivot_df)\n",
    "    X, y = [], []\n",
    "    for i in range(len(scaled_data) - time_steps - predict_steps + 1):\n",
    "        X.append(scaled_data[i:i+time_steps])\n",
    "        y.append(scaled_data[i+time_steps:i+time_steps+predict_steps, 3])\n",
    "    X, y = np.array(X), np.array(y)\n",
    "    model = Sequential()\n",
    "    model.add(LSTM(64, activation=\"relu\", input_shape=(time_steps, X.shape[2])))\n",
    "    model.add(Dense(predict_steps))\n",
    "    model.compile(optimizer=\"adam\", loss=\"mse\")\n",
    "    model.fit(X, y, epochs=100, batch_size=8, verbose=0)\n",
    "    last_seq = scaled_data[-time_steps:]\n",
    "    last_seq = np.expand_dims(last_seq, axis=0)\n",
    "    pred_scaled = model.predict(last_seq)\n",
    "    future_pred = scaler.inverse_transform(np.concatenate([np.zeros((predict_steps, 3)), pred_scaled.reshape(-1, 1)], axis=1))[:, -1]\n",
    "    return pivot_df.index[-1], future_pred"
   ],
   "metadata": {},
   "execution_count": null,
   "outputs": []
  },
  {
   "cell_type": "code",
   "source": [
    "# ✅ 전체 지역 예측 실행\n",
    "results = {}\n",
    "for region in df[\"CLS_NM\"].unique():\n",
    "    try:\n",
    "        last_date, forecast = predict_for_region(region)\n",
    "        results[region] = forecast\n",
    "        print(f\"✅ {region} 완료 | 마지막 분기: {last_date} | 예측값: {np.round(forecast, 2)}\")\n",
    "    except Exception as e:\n",
    "        print(f\"⚠️ {region} 예측 실패: {e}\")"
   ],
   "metadata": {},
   "execution_count": null,
   "outputs": []
  },
  {
   "cell_type": "code",
   "source": [
    "# ✅ 결과 정리 및 저장\n",
    "result_df = pd.DataFrame(results).T\n",
    "result_df.columns = [f\"예측_{i+1}분기후\" for i in range(predict_steps)]\n",
    "result_df[\"예측평균\"] = result_df.mean(axis=1)\n",
    "result_df = result_df.sort_values(\"예측평균\", ascending=False)\n",
    "print(\"\n📌 향후 투자수익률 예측 결과 (상위 지역):\")\n",
    "print(result_df.head())\n",
    "result_df.to_csv(\"LSTM_예측_투자수익률_지역별_all.csv\", encoding=\"utf-8-sig\")"
   ],
   "metadata": {},
   "execution_count": null,
   "outputs": []
  }
 ],
 "metadata": {
  "kernelspec": {
   "display_name": "Python 3",
   "language": "python",
   "name": "python3"
  },
  "language_info": {
   "name": "python",
   "version": "3.11"
  }
 },
 "nbformat": 4,
 "nbformat_minor": 5
}